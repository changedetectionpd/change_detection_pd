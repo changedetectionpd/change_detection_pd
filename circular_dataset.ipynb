{
 "cells": [
  {
   "cell_type": "markdown",
   "id": "421e47f5-552d-48a7-af21-d39d8ee5248b",
   "metadata": {},
   "source": [
    "# Change detection of series of point clouds"
   ]
  },
  {
   "cell_type": "markdown",
   "id": "bc44197f-d3e7-4e9d-94fa-0d2a468df44f",
   "metadata": {},
   "source": [
    "In this note book, we apply our methods to a series of circles with increasing radius."
   ]
  },
  {
   "cell_type": "code",
   "execution_count": null,
   "id": "53cb3e38-d118-4b6e-b0b4-f8f695392f98",
   "metadata": {},
   "outputs": [],
   "source": [
    "import gudhi as gd\n",
    "from gudhi.representations import Landscape\n",
    "import numpy as np\n",
    "import matplotlib.pyplot as plt\n",
    "from functools import partial"
   ]
  },
  {
   "cell_type": "code",
   "execution_count": null,
   "id": "ffc9d2a9-e2e2-4048-900f-9123e760a767",
   "metadata": {},
   "outputs": [],
   "source": [
    "from mdl.model import Norm1D\n",
    "from mdl.smdl import SMDL\n",
    "from bocpd.mybocpd import BOCD, StudentT, constant_hazard\n",
    "from mdl.ppm import get_K_mu_sigma\n",
    "from mdl.wkc import get_WKC\n",
    "from mdl.kc import get_KC\n",
    "from utils.evaluation import calc_auc_average, calc_falarms_benefit, InvRunLen, get_threshold\n",
    "from utils.embedding import TimeDelayEmbedding"
   ]
  },
  {
   "cell_type": "code",
   "execution_count": null,
   "id": "a45d937a-be2e-41a4-b196-02f1597135be",
   "metadata": {},
   "outputs": [],
   "source": [
    "import warnings\n",
    "warnings.filterwarnings('ignore')"
   ]
  },
  {
   "cell_type": "markdown",
   "id": "bb450d9f-37b0-4bc1-a3c2-4ba5b9fb6dd0",
   "metadata": {},
   "source": [
    "## Generate dataset\n",
    "We generate a series circles with increasing radius."
   ]
  },
  {
   "cell_type": "code",
   "execution_count": null,
   "id": "ac84128c-3af0-4c24-9483-3d98d5df0e51",
   "metadata": {},
   "outputs": [],
   "source": [
    "def generate_circles(phases):\n",
    "    x = []\n",
    "    y = []\n",
    "    ks = []\n",
    "    for i in range(200):\n",
    "        j = int(i/50)\n",
    "        np.random.seed(i)\n",
    "        ks.append(phases[j]+np.random.normal(0,0.001))\n",
    "    \n",
    "    for i in range(len(ks)):\n",
    "        k = ks[i]\n",
    "        x = []\n",
    "        y = []\n",
    "        for j in np.arange(0,2,0.015):\n",
    "            x.append(k*np.sin(np.pi*j))\n",
    "            y.append(k*np.cos(np.pi*j))\n",
    "        mean = np.array([0,0])  \n",
    "        cov=np.array([[0.10,0.06],[0.06,0.10]])\n",
    "        np.random.seed(i)\n",
    "        data_1 = np.random.multivariate_normal(mean, cov, size=len(np.arange(0,2,0.015)))\n",
    "        x += data_1.T[0]\n",
    "        y += data_1.T[1]\n",
    "        t_data = np.array([[x,y]])\n",
    "        if i == 0:\n",
    "            data = t_data\n",
    "        else:\n",
    "            data = np.append(data,t_data,axis=0)\n",
    "            \n",
    "    return data"
   ]
  },
  {
   "cell_type": "code",
   "execution_count": null,
   "id": "ea280d89-1032-4197-b609-5f28d219b292",
   "metadata": {},
   "outputs": [],
   "source": [
    "phases=[0.4,1.2,2.0,2.8]\n",
    "data = generate_circles(phases)"
   ]
  },
  {
   "cell_type": "code",
   "execution_count": null,
   "id": "0ca4ba6c-ba80-4433-9843-9a9c714ff17a",
   "metadata": {},
   "outputs": [],
   "source": [
    "for i in range(len(data)):\n",
    "    if i % 20 == 0:\n",
    "        plt.scatter(data[i][0],data[i][1])\n",
    "        plt.title(\"t=\"+str(i))\n",
    "        plt.xlim(-5,5)\n",
    "        plt.ylim(-5,5)\n",
    "        plt.show()"
   ]
  },
  {
   "cell_type": "markdown",
   "id": "bf5bf620-c2e1-4af7-b759-78b46ec136eb",
   "metadata": {},
   "source": [
    "## Number of optimal components in Persistence Parametric Model\n",
    "We apply the PPM method to the PDs of the point clouds."
   ]
  },
  {
   "cell_type": "code",
   "execution_count": null,
   "id": "a4a49b46-ec32-4409-888e-bcb3fe72e9e2",
   "metadata": {},
   "outputs": [],
   "source": [
    "Ks = []\n",
    "max_K = 5\n",
    "b = 10\n",
    "for i in range(len(data)):\n",
    "    ob_data = data[i]\n",
    "    alpha_complex = gd.AlphaComplex(points=ob_data.T)\n",
    "    simplex_tree = alpha_complex.create_simplex_tree()\n",
    "    diag = simplex_tree.persistence()\n",
    "    A = simplex_tree.persistence_intervals_in_dimension(1)\n",
    "    K, mu, sigma = get_K_mu_sigma(A, max_K, b)\n",
    "    Ks.append(K)"
   ]
  },
  {
   "cell_type": "code",
   "execution_count": null,
   "id": "1e133e36-205f-4b6f-9991-bbe53d8ea776",
   "metadata": {},
   "outputs": [],
   "source": [
    "plt.plot(Ks)\n",
    "plt.title(\"The number of mixture\")\n",
    "plt.show()"
   ]
  },
  {
   "cell_type": "markdown",
   "id": "3e5eba44-4778-4338-a9e6-9463549326fb",
   "metadata": {},
   "source": [
    "We plot the centers of PPM at several time."
   ]
  },
  {
   "cell_type": "code",
   "execution_count": null,
   "id": "2f40cb05-9db3-47d7-a0ad-f2c2b9767aba",
   "metadata": {},
   "outputs": [],
   "source": [
    "for i in [60,120,180]:\n",
    "    ob_data = data[i]\n",
    "    alpha_complex = gd.AlphaComplex(points=ob_data.T)\n",
    "    simplex_tree = alpha_complex.create_simplex_tree()\n",
    "    diag = simplex_tree.persistence()\n",
    "    A = simplex_tree.persistence_intervals_in_dimension(1)\n",
    "    K, mu, sigma = get_K_mu_sigma(A, max_K, b)\n",
    "    \n",
    "    plt.xlim(-0.05,1.5)\n",
    "    plt.ylim(-0.05,5)\n",
    "    plt.scatter(A.T[0],A.T[1]-A.T[0])\n",
    "    for l in range(K):\n",
    "        plt.scatter(mu[l][0],mu[l][1],color=\"red\")\n",
    "    plt.title(\"(t=\"+str(i)+\")\")\n",
    "    plt.show()"
   ]
  },
  {
   "cell_type": "markdown",
   "id": "5047229e-7110-4357-89c0-adc636df5833",
   "metadata": {},
   "source": [
    "We smooth the series of the number of mixture components and apply Bayesian online change point detection (BOCPD)."
   ]
  },
  {
   "cell_type": "code",
   "execution_count": null,
   "id": "a8b2c680-159e-4eab-9ecd-658ab7db2ca1",
   "metadata": {},
   "outputs": [],
   "source": [
    "smooth = 2\n",
    "smooth_Ks = [0]*(smooth-1)\n",
    "for i in range(smooth-1,len(Ks)):\n",
    "    smooth_Ks.append(np.mean(Ks[i-smooth+1:i+1]))"
   ]
  },
  {
   "cell_type": "code",
   "execution_count": null,
   "id": "93856ca4-4a25-4962-b299-f4dbc80d3e21",
   "metadata": {},
   "outputs": [],
   "source": [
    "plt.plot(smooth_Ks)\n",
    "plt.title(\"The number of mixture (smoothed)\")\n",
    "plt.show()"
   ]
  },
  {
   "cell_type": "code",
   "execution_count": null,
   "id": "5ef3aef7-4776-4559-af88-235ad905de9a",
   "metadata": {},
   "outputs": [],
   "source": [
    "N_trial = 1\n",
    "ALPHA = 0.1\n",
    "BETA = 1.0\n",
    "KAPPA = 1.0\n",
    "MU = 0.0\n",
    "DELAY = 15\n",
    "T = 5\n",
    "\n",
    "for LAMBDA in [2,5,10,20,40,60,80,100]:\n",
    "    for THRESHOLD in [0.1, 0.3]:\n",
    "        scores_bocpd = []\n",
    "        for i in range(N_trial):\n",
    "            X = smooth_Ks\n",
    "\n",
    "            # BOCPD\n",
    "            bocd = BOCD(partial(constant_hazard, LAMBDA),\n",
    "                        StudentT(ALPHA, BETA, KAPPA, MU), X)\n",
    "            change_points = []\n",
    "            scores = [np.nan] * DELAY\n",
    "            for x in X[:DELAY]:\n",
    "                bocd.update(x)\n",
    "            for x in X[DELAY:]:\n",
    "                bocd.update(x)\n",
    "                if bocd.growth_probs[DELAY] >= THRESHOLD:\n",
    "                    change_points.append(bocd.t - DELAY + 1)\n",
    "                score = np.sum(bocd.growth_probs[:bocd.t - DELAY] * 1.0 / (1.0 + np.arange(1, bocd.t - DELAY + 1)))\n",
    "                scores.append(score)\n",
    "\n",
    "            scores_bocpd.append(scores)\n",
    "\n",
    "        scores_bocpd = np.array(scores_bocpd)\n",
    "        auc_list = calc_auc_average(scores_bocpd,np.array([50,100,150]),T=T)\n",
    "        print('LAMBDA =', LAMBDA, 'THRESHOLD =', THRESHOLD, 'AUC:', np.mean(auc_list))"
   ]
  },
  {
   "cell_type": "markdown",
   "id": "4ad35e21-e00c-49f7-8cd7-3978fedac8f2",
   "metadata": {},
   "source": [
    "## Kernel Complexity of Persistence Non-Parametric Model\n",
    "We apply the PNPM method to the PDs of the point clouds."
   ]
  },
  {
   "cell_type": "code",
   "execution_count": null,
   "id": "cefceeaa-80ba-4faa-ae53-fe96e98aa3b2",
   "metadata": {},
   "outputs": [],
   "source": [
    "KCs_PNPM = []\n",
    "epsilon = 0.1\n",
    "gamma = 0.7\n",
    "param = 1.0\n",
    "for i in range(len(data)):\n",
    "    ob_data = data[i]\n",
    "    alpha_complex = gd.AlphaComplex(points=ob_data.T)\n",
    "    simplex_tree = alpha_complex.create_simplex_tree()\n",
    "    diag = simplex_tree.persistence()\n",
    "    A = simplex_tree.persistence_intervals_in_dimension(1)\n",
    "    x1 = np.append(np.array([A.T[0]]),[A.T[1]-A.T[0]],axis=0)\n",
    "    x = x1.T\n",
    "    n = len(x)\n",
    "    m = len(x[0])\n",
    "    if len(x) > 0:\n",
    "        KC = get_WKC(x, n, m, gamma, epsilon, param)\n",
    "        KCs_PNPM.append(KC)\n",
    "    else:\n",
    "        KCs_PNPM.append(0)"
   ]
  },
  {
   "cell_type": "markdown",
   "id": "a1fc6cce-c212-43e9-b813-2c17d0cb4c51",
   "metadata": {},
   "source": [
    "We apply sequential MDL-change statistics (SMDL) to the series of the kernel complexity of PNPM."
   ]
  },
  {
   "cell_type": "code",
   "execution_count": null,
   "id": "17e57e5e-2446-4e6d-9e1b-79573ed07128",
   "metadata": {},
   "outputs": [],
   "source": [
    "plt.plot(KCs_PNPM)\n",
    "plt.title(\"Kernel Complexity of PNPM\")\n",
    "plt.show()"
   ]
  },
  {
   "cell_type": "code",
   "execution_count": null,
   "id": "100c3543-9d87-455f-8cc5-50b7ddf1fdb2",
   "metadata": {},
   "outputs": [],
   "source": [
    "h = 10\n",
    "cps_true = np.array([50, 100,150])\n",
    "N_trial = 1\n",
    "mu_max = 50.0\n",
    "sigma_min = 0.005\n",
    "T = 5\n",
    "\n",
    "scores_list_0th = []\n",
    "scores_list_1st = []\n",
    "scores_list_2nd = []\n",
    "for i in range(N_trial):\n",
    "    X = np.array(KCs_PNPM)\n",
    "    len_X = len(X)\n",
    "    \n",
    "    norm1d = Norm1D()\n",
    "    smdl = SMDL(norm1d)\n",
    "\n",
    "    scores_0th = np.array([np.nan]*h + [ smdl.calc_change_score(X[(t-h):(t+h)], h, mu_max=mu_max, sigma_min=sigma_min) \\\n",
    "                                     for t in range(h, len_X-h)] + [np.nan]*h)\n",
    "    scores_list_0th.append(scores_0th)\n",
    "\n",
    "scores_list_0th = np.array(scores_list_0th)\n",
    "auc_list_0th = calc_auc_average(scores_list_0th, cps_true=cps_true,T=T)\n",
    "print(\"AUC:\", np.mean(auc_list_0th))"
   ]
  },
  {
   "cell_type": "markdown",
   "id": "58788a8e-8f8f-474d-be2f-d5629de6fa7f",
   "metadata": {},
   "source": [
    "## Comparison with existing methods\n",
    "Below we apply several existing methods to the time-series for comparison."
   ]
  },
  {
   "cell_type": "markdown",
   "id": "1ff1691f-8d95-41aa-83a2-077771577809",
   "metadata": {},
   "source": [
    "### L2 norm of persistence landscape"
   ]
  },
  {
   "cell_type": "code",
   "execution_count": null,
   "id": "e09e2132-3fa4-4433-8ff1-6e337e84da63",
   "metadata": {},
   "outputs": [],
   "source": [
    "L2_norms = []\n",
    "for i in range(len(data)):\n",
    "    ob_data = data[i]\n",
    "    alpha_complex = gd.AlphaComplex(points=ob_data.T)\n",
    "    simplex_tree = alpha_complex.create_simplex_tree()\n",
    "    simplex_tree.persistence()\n",
    "    A = simplex_tree.persistence_intervals_in_dimension(1)\n",
    "    x1 = np.append(np.array([A.T[0]]),[A.T[1]-A.T[0]],axis=0)\n",
    "    x = x1.T\n",
    "    LS = Landscape(num_landscapes=3,resolution=1000)\n",
    "    L = LS.fit_transform([simplex_tree.persistence_intervals_in_dimension(1)])\n",
    "    L2 = 0\n",
    "    L2 += pow(np.linalg.norm(L[0][:1000],ord=2),2)\n",
    "    L2 += pow(np.linalg.norm(L[0][1000:2000],ord=2),2)\n",
    "    L2 += pow(np.linalg.norm(L[0][2000:3000],ord=2),2)\n",
    "    L2_norms.append(pow(L2,1/2))"
   ]
  },
  {
   "cell_type": "code",
   "execution_count": null,
   "id": "a19a8fd7-8bf7-4f42-a97b-53f70ceae776",
   "metadata": {},
   "outputs": [],
   "source": [
    "plt.plot(L2_norms)\n",
    "plt.title(\"L2 norm\")\n",
    "plt.show()"
   ]
  },
  {
   "cell_type": "code",
   "execution_count": null,
   "id": "c9c622b9-2f37-4a3c-b562-2638817f3d39",
   "metadata": {},
   "outputs": [],
   "source": [
    "h = 5\n",
    "cps_true = np.array([50,100,150])\n",
    "N_trial = 1\n",
    "mu_max = 50.0\n",
    "sigma_min = 0.005\n",
    "T = 5\n",
    "\n",
    "scores_list_0th = []\n",
    "scores_list_1st = []\n",
    "scores_list_2nd = []\n",
    "for i in range(N_trial):\n",
    "    X = np.array(L2_norms)\n",
    "    len_X = len(X)\n",
    "    \n",
    "    norm1d = Norm1D()\n",
    "    smdl = SMDL(norm1d)\n",
    "\n",
    "    scores_0th = np.array([np.nan]*h + [ smdl.calc_change_score(X[(t-h):(t+h)], h, mu_max=mu_max, sigma_min=sigma_min) \\\n",
    "                                     for t in range(h, len_X-h)] + [np.nan]*h)\n",
    "    scores_list_0th.append(scores_0th)\n",
    "\n",
    "scores_list_0th = np.array(scores_list_0th)\n",
    "auc_list_0th = calc_auc_average(scores_list_0th, cps_true=cps_true,T=T)\n",
    "print(\"AUC:\", np.mean(auc_list_0th))"
   ]
  },
  {
   "cell_type": "markdown",
   "id": "3ffaedec-a79c-4015-877a-f1352048d6fd",
   "metadata": {},
   "source": [
    "### Kernel complexity applied to the original point clouds"
   ]
  },
  {
   "cell_type": "code",
   "execution_count": null,
   "id": "152b663e-c688-4b9b-adde-95b05e71a5e2",
   "metadata": {},
   "outputs": [],
   "source": [
    "epsilon = 0.1\n",
    "gamma = 0.7\n",
    "param = 1.0\n",
    "KCs = []\n",
    "for i in range(len(data)):\n",
    "    ob_data = data[i]\n",
    "    x = ob_data.T\n",
    "    n = len(x)\n",
    "    m = len(x[0])\n",
    "    if len(x)>0:\n",
    "        KC = get_KC(x, n, m, gamma, epsilon, param)\n",
    "        KCs.append(KC)\n",
    "    else:\n",
    "        KCs.append(0)"
   ]
  },
  {
   "cell_type": "code",
   "execution_count": null,
   "id": "2f9fbdf8-a67e-4a61-a0f0-37a9aa228e69",
   "metadata": {},
   "outputs": [],
   "source": [
    "plt.plot(KCs)\n",
    "plt.title(\"Kenel Complexity of the original point clouds\")\n",
    "plt.show()"
   ]
  },
  {
   "cell_type": "code",
   "execution_count": null,
   "id": "b5f2ea52-6e06-411d-9903-f04cf8394125",
   "metadata": {},
   "outputs": [],
   "source": [
    "h = 10\n",
    "cps_true = np.array([50, 100,150])\n",
    "N_trial = 1\n",
    "mu_max = 50.0\n",
    "sigma_min = 0.005\n",
    "T = 5\n",
    "\n",
    "scores_list_0th = []\n",
    "scores_list_1st = []\n",
    "scores_list_2nd = []\n",
    "for i in range(N_trial):\n",
    "    X = np.array(KCs)\n",
    "    len_X = len(X)\n",
    "    \n",
    "    norm1d = Norm1D()\n",
    "    smdl = SMDL(norm1d)\n",
    "\n",
    "    scores_0th = np.array([np.nan]*h + [ smdl.calc_change_score(X[(t-h):(t+h)], h, mu_max=mu_max, sigma_min=sigma_min) \\\n",
    "                                     for t in range(h, len_X-h)] + [np.nan]*h)\n",
    "    scores_list_0th.append(scores_0th)\n",
    "\n",
    "scores_list_0th = np.array(scores_list_0th)\n",
    "auc_list_0th = calc_auc_average(scores_list_0th, cps_true=cps_true,T=T)\n",
    "print(\"AUC:\", np.mean(auc_list_0th))"
   ]
  }
 ],
 "metadata": {
  "kernelspec": {
   "display_name": "Python 3 (ipykernel)",
   "language": "python",
   "name": "python3"
  },
  "language_info": {
   "codemirror_mode": {
    "name": "ipython",
    "version": 3
   },
   "file_extension": ".py",
   "mimetype": "text/x-python",
   "name": "python",
   "nbconvert_exporter": "python",
   "pygments_lexer": "ipython3",
   "version": "3.7.9"
  }
 },
 "nbformat": 4,
 "nbformat_minor": 5
}
