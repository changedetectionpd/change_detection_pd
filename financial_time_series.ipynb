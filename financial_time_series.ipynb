{
 "cells": [
  {
   "cell_type": "markdown",
   "id": "421e47f5-552d-48a7-af21-d39d8ee5248b",
   "metadata": {},
   "source": [
    "# Change detection of real-world financial time-series"
   ]
  },
  {
   "cell_type": "markdown",
   "id": "bc44197f-d3e7-4e9d-94fa-0d2a468df44f",
   "metadata": {},
   "source": [
    "In this note book, we apply our methods to a real-world financial time-series"
   ]
  },
  {
   "cell_type": "code",
   "execution_count": null,
   "id": "53cb3e38-d118-4b6e-b0b4-f8f695392f98",
   "metadata": {},
   "outputs": [],
   "source": [
    "import gudhi as gd\n",
    "from gudhi.representations import Landscape\n",
    "import numpy as np\n",
    "import matplotlib.pyplot as plt\n",
    "import pandas_datareader.data as web\n",
    "from functools import partial"
   ]
  },
  {
   "cell_type": "code",
   "execution_count": null,
   "id": "ffc9d2a9-e2e2-4048-900f-9123e760a767",
   "metadata": {},
   "outputs": [],
   "source": [
    "from mdl.model import Norm1D\n",
    "from mdl.smdl import SMDL\n",
    "from bocpd.mybocpd import BOCD, StudentT, constant_hazard\n",
    "from mdl.ppm import get_K_mu_sigma\n",
    "from mdl.wkc import get_WKC\n",
    "from utils.evaluation import calc_auc_average, calc_falarms_benefit, InvRunLen, get_evaluation, get_threshold\n",
    "from utils.embedding import TimeDelayEmbedding"
   ]
  },
  {
   "cell_type": "code",
   "execution_count": null,
   "id": "1c5573e1-cfbc-4c0b-a340-42603c8411e7",
   "metadata": {},
   "outputs": [],
   "source": [
    "import warnings\n",
    "warnings.filterwarnings('ignore')"
   ]
  },
  {
   "cell_type": "markdown",
   "id": "bb450d9f-37b0-4bc1-a3c2-4ba5b9fb6dd0",
   "metadata": {},
   "source": [
    "## Download Dataset\n",
    "We download a financial time-series dataset, which consists of the S&P500 market price."
   ]
  },
  {
   "cell_type": "code",
   "execution_count": null,
   "id": "ac84128c-3af0-4c24-9483-3d98d5df0e51",
   "metadata": {},
   "outputs": [],
   "source": [
    "df = web.DataReader('^GSPC', 'yahoo', start='2018-01-01', end='2021-12-31')\n",
    "df.reset_index(inplace=True)\n",
    "data = np.diff(np.log(df[\"Close\"]))*10"
   ]
  },
  {
   "cell_type": "code",
   "execution_count": null,
   "id": "d7ce58e4-2522-416c-97dc-35ca258ac1d0",
   "metadata": {},
   "outputs": [],
   "source": [
    "plt.plot(df[\"Close\"])"
   ]
  },
  {
   "cell_type": "markdown",
   "id": "30ec2b8e-45ce-4677-8218-1eb40b4cd92b",
   "metadata": {},
   "source": [
    "## Time-delay embedding\n",
    "Apply time-delay embedding to the time-series data and convert it to a series of three-dimensional point clouds. "
   ]
  },
  {
   "cell_type": "code",
   "execution_count": null,
   "id": "a881edbb-26c2-467a-a609-324b75856293",
   "metadata": {},
   "outputs": [],
   "source": [
    "TimeDelay = TimeDelayEmbedding(150,1,1)\n",
    "ex_data = TimeDelay(data,0)\n",
    "TimeDelay = TimeDelayEmbedding(3,5,1)\n",
    "use_data = TimeDelay(ex_data,1)"
   ]
  },
  {
   "cell_type": "markdown",
   "id": "911d6b64-1a15-4793-afcf-5bd9d30bd471",
   "metadata": {},
   "source": [
    "## Number of optimal components in Persistence Parametric Model\n",
    "We apply the PPM method to the PDs of the point clouds."
   ]
  },
  {
   "cell_type": "code",
   "execution_count": null,
   "id": "a4a49b46-ec32-4409-888e-bcb3fe72e9e2",
   "metadata": {},
   "outputs": [],
   "source": [
    "Ks = []\n",
    "max_K = 7\n",
    "b = 100\n",
    "for i in range(len(use_data)):\n",
    "    ob_data = use_data[i]\n",
    "    rips_complex = gd.RipsComplex(points=ob_data)\n",
    "    simplex_tree = rips_complex.create_simplex_tree(max_dimension=2)\n",
    "    diag = simplex_tree.persistence()\n",
    "    A = simplex_tree.persistence_intervals_in_dimension(1)\n",
    "    K, mu, sigma = get_K_mu_sigma(A, max_K, b)\n",
    "    Ks.append(K)"
   ]
  },
  {
   "cell_type": "markdown",
   "id": "5047229e-7110-4357-89c0-adc636df5833",
   "metadata": {},
   "source": [
    "We smooth the series of the number of mixture components and apply Bayesian online change point detection (BOCPD)."
   ]
  },
  {
   "cell_type": "code",
   "execution_count": null,
   "id": "a8b2c680-159e-4eab-9ecd-658ab7db2ca1",
   "metadata": {},
   "outputs": [],
   "source": [
    "smooth = 3\n",
    "smooth_Ks = [0]*(smooth-1)\n",
    "for i in range(smooth-1,len(Ks)):\n",
    "    smooth_Ks.append(np.mean(Ks[i-smooth+1:i+1]))"
   ]
  },
  {
   "cell_type": "code",
   "execution_count": null,
   "id": "5ef3aef7-4776-4559-af88-235ad905de9a",
   "metadata": {},
   "outputs": [],
   "source": [
    "ALPHA = 0.1\n",
    "BETA = 1.0\n",
    "KAPPA = 1.0\n",
    "MU = 0.0\n",
    "DELAY = 15\n",
    "N_trial = 1\n",
    "\n",
    "for LAMBDA in [5]:\n",
    "    for THRESHOLD in [0.3]:\n",
    "        scores_bocpd = []\n",
    "        for i in range(N_trial):\n",
    "            X = smooth_Ks\n",
    "\n",
    "            # BOCPD\n",
    "            bocd = BOCD(partial(constant_hazard, LAMBDA),\n",
    "                        StudentT(ALPHA, BETA, KAPPA, MU), X)\n",
    "            change_points = []\n",
    "            scores_PPM = [np.nan] * DELAY\n",
    "            for x in X[:DELAY]:\n",
    "                bocd.update(x)\n",
    "            for x in X[DELAY:]:\n",
    "                bocd.update(x)\n",
    "                if bocd.growth_probs[DELAY] >= THRESHOLD:\n",
    "                    change_points.append(bocd.t - DELAY + 1)\n",
    "                score = np.sum(bocd.growth_probs[:bocd.t - DELAY] * 1.0 / (1.0 + np.arange(1, bocd.t - DELAY + 1)))\n",
    "                scores_PPM.append(score)"
   ]
  },
  {
   "cell_type": "markdown",
   "id": "7cc924cc-f8c5-4f7e-8964-b7cab7e46352",
   "metadata": {},
   "source": [
    "We evaluate the detection result."
   ]
  },
  {
   "cell_type": "code",
   "execution_count": null,
   "id": "dafbda53-e335-49d7-a71a-740964927dfe",
   "metadata": {},
   "outputs": [],
   "source": [
    "Dates = [\"2018-09-24\",\"2018-12-03\",\"2019-05-06\",\"2019-08-01\",\"2020-02-28\",\"2020-04-24\",\"2020-09-29\",\"2021-03-31\",\"2021-09-22\"]\n",
    "T = 40\n",
    "true_change_points = []\n",
    "for Date in Dates:\n",
    "    true_change_points.append(df[df[\"Date\"]==Date].index[0]-150)"
   ]
  },
  {
   "cell_type": "code",
   "execution_count": null,
   "id": "33ef1362-6736-4b45-a163-c62fc85e3a43",
   "metadata": {},
   "outputs": [],
   "source": [
    "detect_points_PPM = []\n",
    "data_points_PPM = []\n",
    "detections_PPM = []\n",
    "beta = get_threshold(scores_PPM, true_change_points, T)\n",
    "for i in range(len(scores_PPM)):\n",
    "    if scores_PPM[i]>beta:\n",
    "        detections_PPM.append(i)\n",
    "        detect_points_PPM.append(len(data)-len(smooth_Ks)+i)\n",
    "        data_points_PPM.append(df[\"Close\"][detect_points_PPM[-1]])"
   ]
  },
  {
   "cell_type": "code",
   "execution_count": null,
   "id": "b00ab8ce-27e9-4e9a-b78d-16d28aed9803",
   "metadata": {},
   "outputs": [],
   "source": [
    "fig = plt.figure(figsize=(20,8))\n",
    "ax1 = fig.add_subplot(2,1,1)\n",
    "ax1.plot(df[\"Date\"],df[\"Close\"])\n",
    "ax1.scatter(df[\"Date\"].iloc[detect_points_PPM],data_points_PPM,color=\"red\")\n",
    "ymin = 2000\n",
    "ymax = 4900\n",
    "ax1.set_ylim(ymin,ymax)\n",
    "ax1.vlines(Dates, ymin, ymax, \"green\", linestyles='dashed')\n",
    "plt.title(\"S&P500\")\n",
    "ax2 = fig.add_subplot(2,1,2,sharex=ax1)\n",
    "ymin = 1.0\n",
    "ymax = 7.0\n",
    "ax2.set_ylim(ymin,ymax)\n",
    "ax2.plot(df[\"Date\"].iloc[150:],smooth_Ks)\n",
    "ax2.vlines(Dates, ymin, ymax, \"green\", linestyles='dashed')\n",
    "plt.title(\"The number of mixture (smoothed)\")\n",
    "ax1.grid(which = \"major\", axis = \"x\", color = \"black\", alpha = 0.2,linestyle = \"--\", linewidth = 1)\n",
    "ax2.grid(which = \"major\", axis = \"x\", color = \"black\", alpha = 0.2,linestyle = \"--\", linewidth = 1)\n",
    "plt.savefig(\"real_data_1_2.png\",facecolor=\"white\")\n",
    "plt.show()"
   ]
  },
  {
   "cell_type": "code",
   "execution_count": null,
   "id": "31ca5acb-40b1-4a85-80ee-22f5fffa6e8d",
   "metadata": {},
   "outputs": [],
   "source": [
    "benefit, acc_rate = get_evaluation(detections_PPM, true_change_points, T)\n",
    "print(\"benefit: {}, rate of accurate alerts: {}\".format(benefit, acc_rate))"
   ]
  },
  {
   "cell_type": "markdown",
   "id": "4ad35e21-e00c-49f7-8cd7-3978fedac8f2",
   "metadata": {},
   "source": [
    "## Kernel Complexity of Persistence Non-Parametric Model\n",
    "We apply the PNPM method to the PDs of the point clouds."
   ]
  },
  {
   "cell_type": "code",
   "execution_count": null,
   "id": "cefceeaa-80ba-4faa-ae53-fe96e98aa3b2",
   "metadata": {},
   "outputs": [],
   "source": [
    "KCs_PNPM = []\n",
    "epsilon = 0.1\n",
    "gamma = 0.7\n",
    "param = 1.0\n",
    "for i in range(len(use_data)):\n",
    "    ob_data = use_data[i]\n",
    "    rips_complex = gd.RipsComplex(points=ob_data)\n",
    "    simplex_tree = rips_complex.create_simplex_tree(max_dimension = 2)\n",
    "    diag = simplex_tree.persistence()\n",
    "    A = simplex_tree.persistence_intervals_in_dimension(1)\n",
    "    x1 = np.append(np.array([A.T[0]]),[A.T[1]-A.T[0]],axis=0)\n",
    "    x = x1.T\n",
    "    n = len(x)\n",
    "    m = len(x[0])\n",
    "    if len(x) > 0:\n",
    "        KC = get_WKC(x, n, m, gamma, epsilon, param)\n",
    "        KCs_PNPM.append(KC)\n",
    "    else:\n",
    "        KCs_PNPM.append(0)"
   ]
  },
  {
   "cell_type": "markdown",
   "id": "a1fc6cce-c212-43e9-b813-2c17d0cb4c51",
   "metadata": {},
   "source": [
    "We apply sequential MDL-change statistics (SMDL) to the series of the kernel complexity of PNPM."
   ]
  },
  {
   "cell_type": "code",
   "execution_count": null,
   "id": "100c3543-9d87-455f-8cc5-50b7ddf1fdb2",
   "metadata": {},
   "outputs": [],
   "source": [
    "h = 8\n",
    "mu_max = 50.0\n",
    "sigma_min = 0.005\n",
    "\n",
    "scores_list_0th = []\n",
    "scores_list_1st = []\n",
    "scores_list_2nd = []\n",
    "\n",
    "X = np.array(KCs_PNPM)\n",
    "len_X = len(X)\n",
    "    \n",
    "norm1d = Norm1D()\n",
    "smdl = SMDL(norm1d)\n",
    "\n",
    "scores_0th = np.array([np.nan]*h + [ smdl.calc_change_score(X[(t-h):(t+h)], h, mu_max=mu_max, sigma_min=sigma_min) \\\n",
    "                                    for t in range(h, len_X-h)] + [np.nan]*h)\n",
    "scores_list_0th.append(scores_0th)\n",
    "    \n",
    "scores_list_0th = np.array(scores_list_0th)\n",
    "scores_PNPM = scores_list_0th[0]"
   ]
  },
  {
   "cell_type": "markdown",
   "id": "7436e0cf-ba99-4941-91b2-6347be4ce666",
   "metadata": {},
   "source": [
    "We evaluate the detection result."
   ]
  },
  {
   "cell_type": "code",
   "execution_count": null,
   "id": "64ae67bd-0db1-477c-94bf-251a81ca51e0",
   "metadata": {},
   "outputs": [],
   "source": [
    "Dates = [\"2018-09-24\",\"2018-12-03\",\"2019-05-06\",\"2019-08-01\",\"2020-02-28\",\"2020-04-24\",\"2020-09-29\",\"2021-03-31\",\"2021-09-22\"]\n",
    "T = 40\n",
    "true_change_points = []\n",
    "for Date in Dates:\n",
    "    true_change_points.append(df[df[\"Date\"]==Date].index[0]-150)"
   ]
  },
  {
   "cell_type": "code",
   "execution_count": null,
   "id": "66ee7040-74d6-44f1-b01c-10a553c9fff8",
   "metadata": {},
   "outputs": [],
   "source": [
    "detect_points_PNPM = []\n",
    "data_points_PNPM = []\n",
    "detections_PNPM = []\n",
    "beta = get_threshold(scores_PNPM, true_change_points, T)\n",
    "for i in range(len(scores_PNPM)):\n",
    "    if scores_PNPM[i]>beta:\n",
    "        detections_PNPM.append(i)\n",
    "        detect_points_PNPM.append(len(data)-len(KCs_PNPM)+i)\n",
    "        data_points_PNPM.append(df[\"Close\"][detect_points_PNPM[-1]])"
   ]
  },
  {
   "cell_type": "code",
   "execution_count": null,
   "id": "ded1d6ac-4642-451e-9434-35eb7ff15a2d",
   "metadata": {},
   "outputs": [],
   "source": [
    "fig = plt.figure(figsize=(20,8))\n",
    "ax1 = fig.add_subplot(2,1,1)\n",
    "ax1.plot(df[\"Date\"],df[\"Close\"])\n",
    "ax1.scatter(df[\"Date\"].iloc[detect_points_PNPM],data_points_PNPM,color=\"red\")\n",
    "ymin = 2000\n",
    "ymax = 4900\n",
    "ax1.set_ylim(ymin,ymax)\n",
    "ax1.vlines(Dates, ymin, ymax, \"green\", linestyles='dashed')\n",
    "plt.title(\"S&P500\")\n",
    "ax2 = fig.add_subplot(2,1,2,sharex=ax1)\n",
    "ymin = 0.05\n",
    "ymax = 0.8\n",
    "ax2.set_ylim(ymin,ymax)\n",
    "ax2.plot(df[\"Date\"].iloc[150:],KCs_PNPM)\n",
    "ax2.vlines(Dates, ymin, ymax, \"green\", linestyles='dashed')\n",
    "plt.title(\"Kernel Complexity\")\n",
    "ax1.grid(which = \"major\", axis = \"x\", color = \"black\", alpha = 0.2,linestyle = \"--\", linewidth = 1)\n",
    "ax2.grid(which = \"major\", axis = \"x\", color = \"black\", alpha = 0.2,linestyle = \"--\", linewidth = 1)\n",
    "plt.show()"
   ]
  },
  {
   "cell_type": "code",
   "execution_count": null,
   "id": "49bfcec8-399e-487d-8097-bcd9f46e3262",
   "metadata": {},
   "outputs": [],
   "source": [
    "benefit, acc_rate = get_evaluation(detections_PNPM, true_change_points, T)\n",
    "print(\"benefit: {}, rate of accurate alerts: {}\".format(benefit, acc_rate))"
   ]
  },
  {
   "cell_type": "markdown",
   "id": "58788a8e-8f8f-474d-be2f-d5629de6fa7f",
   "metadata": {},
   "source": [
    "## Comparison to existing methods\n",
    "Below we apply several existing methods to the time-series for comparison."
   ]
  },
  {
   "cell_type": "markdown",
   "id": "1ff1691f-8d95-41aa-83a2-077771577809",
   "metadata": {},
   "source": [
    "### L2 norm of persistence landscape"
   ]
  },
  {
   "cell_type": "code",
   "execution_count": null,
   "id": "e09e2132-3fa4-4433-8ff1-6e337e84da63",
   "metadata": {},
   "outputs": [],
   "source": [
    "L2_norms = []\n",
    "for i in range(len(use_data)):\n",
    "    ob_data = use_data[i]\n",
    "    rips_complex = gd.RipsComplex(points=ob_data)\n",
    "    simplex_tree = rips_complex.create_simplex_tree(max_dimension=2)\n",
    "    simplex_tree.persistence()\n",
    "    A = simplex_tree.persistence_intervals_in_dimension(1)\n",
    "    x1 = np.append(np.array([A.T[0]]),[A.T[1]-A.T[0]],axis=0)\n",
    "    x = x1.T\n",
    "    LS = Landscape(num_landscapes=3,resolution=1000)\n",
    "    L = LS.fit_transform([simplex_tree.persistence_intervals_in_dimension(1)])\n",
    "    L2 = 0\n",
    "    L2 += pow(np.linalg.norm(L[0][:1000],ord=2),2)\n",
    "    L2 += pow(np.linalg.norm(L[0][1000:2000],ord=2),2)\n",
    "    L2 += pow(np.linalg.norm(L[0][2000:3000],ord=2),2)\n",
    "    L2_norms.append(pow(L2,1/2))"
   ]
  },
  {
   "cell_type": "code",
   "execution_count": null,
   "id": "c9c622b9-2f37-4a3c-b562-2638817f3d39",
   "metadata": {},
   "outputs": [],
   "source": [
    "h = 8\n",
    "mu_max = 1\n",
    "sigma_min = 0.005\n",
    "\n",
    "scores_list_0th = []\n",
    "scores_list_1st = []\n",
    "scores_list_2nd = []\n",
    "\n",
    "X = np.array(L2_norms)\n",
    "len_X = len(X)\n",
    "    \n",
    "norm1d = Norm1D()\n",
    "smdl = SMDL(norm1d)\n",
    "\n",
    "scores_0th = np.array([np.nan]*h + [ smdl.calc_change_score(X[(t-h):(t+h)], h, mu_max=mu_max, sigma_min=sigma_min) \\\n",
    "                                    for t in range(h, len_X-h)] + [np.nan]*h)\n",
    "scores_list_0th.append(scores_0th)\n",
    "    \n",
    "scores_list_0th = np.array(scores_list_0th)\n",
    "scores_PL = scores_list_0th[0]"
   ]
  },
  {
   "cell_type": "code",
   "execution_count": null,
   "id": "f6d1997f-bdc8-459e-a913-7bfc8b207a86",
   "metadata": {},
   "outputs": [],
   "source": [
    "Dates = [\"2018-09-24\",\"2018-12-03\",\"2019-05-06\",\"2019-08-01\",\"2020-02-28\",\"2020-04-24\",\"2020-09-29\",\"2021-03-31\",\"2021-09-22\"]\n",
    "T = 40\n",
    "true_change_points = []\n",
    "for Date in Dates:\n",
    "    true_change_points.append(df[df[\"Date\"]==Date].index[0]-150)"
   ]
  },
  {
   "cell_type": "code",
   "execution_count": null,
   "id": "83d6dc93-fa97-486a-87c4-b504712237bd",
   "metadata": {},
   "outputs": [],
   "source": [
    "detect_points_PL = []\n",
    "data_points_PL = []\n",
    "detections_PL = []\n",
    "beta = get_threshold(scores_PL, true_change_points, T)\n",
    "for i in range(len(scores_PL)):\n",
    "    if scores_PL[i]>beta:\n",
    "        detections_PL.append(i)\n",
    "        detect_points_PL.append(len(data)-len(L2_norms)+i)\n",
    "        data_points_PL.append(df[\"Close\"][detect_points_PL[-1]])"
   ]
  },
  {
   "cell_type": "code",
   "execution_count": null,
   "id": "4ba99f68-dc01-451a-a061-2c92c629f1f1",
   "metadata": {},
   "outputs": [],
   "source": [
    "fig = plt.figure(figsize=(20,8))\n",
    "ax1 = fig.add_subplot(2,1,1)\n",
    "ax1.plot(df[\"Date\"],df[\"Close\"])\n",
    "ax1.scatter(df[\"Date\"].iloc[detect_points_PL],data_points_PL,color=\"red\")\n",
    "ymin = 2000\n",
    "ymax = 4900\n",
    "ax1.set_ylim(ymin,ymax)\n",
    "ax1.vlines(Dates, ymin, ymax, \"green\", linestyles='dashed')\n",
    "plt.title(\"S\\&P500\")\n",
    "ax2 = fig.add_subplot(2,1,2,sharex=ax1)\n",
    "ymin = 0.0\n",
    "ymax = 3.0\n",
    "ax2.set_ylim(ymin,ymax)\n",
    "ax2.plot(df[\"Date\"].iloc[150:],L2_norms)\n",
    "ax2.vlines(Dates, ymin, ymax, \"green\", linestyles='dashed')\n",
    "plt.title(\"L2 norm\")\n",
    "ax1.grid(which = \"major\", axis = \"x\", color = \"black\", alpha = 0.2,linestyle = \"--\", linewidth = 1)\n",
    "ax2.grid(which = \"major\", axis = \"x\", color = \"black\", alpha = 0.2,linestyle = \"--\", linewidth = 1)\n",
    "plt.show()"
   ]
  },
  {
   "cell_type": "code",
   "execution_count": null,
   "id": "6342a7e1-0b59-436b-b451-8eb85f0e96cf",
   "metadata": {},
   "outputs": [],
   "source": [
    "benefit, acc_rate = get_evaluation(detections_PL, true_change_points, T)\n",
    "print(\"benefit: {}, rate of accurate alerts: {}\".format(benefit, acc_rate))"
   ]
  },
  {
   "cell_type": "markdown",
   "id": "2c652ea7-6a1f-4d94-b628-fad38aa4e1e2",
   "metadata": {},
   "source": [
    "### Sequential MDL-change statistics (SMDL)"
   ]
  },
  {
   "cell_type": "code",
   "execution_count": null,
   "id": "b2acf8dd-8aec-480c-a11c-9bdb2cdee947",
   "metadata": {},
   "outputs": [],
   "source": [
    "h = 18\n",
    "mu_max = 50.0\n",
    "sigma_min = 0.005\n",
    "\n",
    "scores_list_0th = []\n",
    "scores_list_1st = []\n",
    "scores_list_2nd = []\n",
    "\n",
    "X = np.array(data)\n",
    "len_X = len(X)\n",
    "    \n",
    "norm1d = Norm1D()\n",
    "smdl = SMDL(norm1d)\n",
    "\n",
    "scores_0th = np.array([np.nan]*h + [ smdl.calc_change_score(X[(t-h):(t+h)], h, mu_max=mu_max, sigma_min=sigma_min) \\\n",
    "                                    for t in range(h, len_X-h)] + [np.nan]*h)\n",
    "scores_list_0th.append(scores_0th)\n",
    "\n",
    "scores_list_0th = np.array(scores_list_0th)\n",
    "scores_SMDL = scores_list_0th[0]"
   ]
  },
  {
   "cell_type": "code",
   "execution_count": null,
   "id": "0db3b35f-a8ee-4447-b55b-93948cc515ad",
   "metadata": {},
   "outputs": [],
   "source": [
    "T = 40\n",
    "true_change_points_original = []\n",
    "for Date in Dates:\n",
    "    true_change_points_original.append(df[df[\"Date\"]==Date].index[0])"
   ]
  },
  {
   "cell_type": "code",
   "execution_count": null,
   "id": "eef3875c-bc53-4e6f-88a0-2d0645f77072",
   "metadata": {},
   "outputs": [],
   "source": [
    "detect_points_SMDL = []\n",
    "data_points_SMDL = []\n",
    "detections_SMDL = []\n",
    "beta = get_threshold(scores_SMDL, true_change_points_original, T)\n",
    "for i in range(len(scores_SMDL)):\n",
    "    if scores_SMDL[i]>beta:\n",
    "        detections_SMDL.append(i)\n",
    "        detect_points_SMDL.append(len(data)-len(scores_SMDL)+i)\n",
    "        data_points_SMDL.append(df[\"Close\"][detect_points_SMDL[-1]])"
   ]
  },
  {
   "cell_type": "code",
   "execution_count": null,
   "id": "0898553a-3eae-4a76-a2b4-04b15b2d9d13",
   "metadata": {},
   "outputs": [],
   "source": [
    "true_detections_SMDL = np.array(detections_SMDL)\n",
    "benefit, acc_rate = get_evaluation(true_detections_SMDL[true_detections_SMDL>150], true_change_points_original, T)\n",
    "print(\"benefit: {}, rate of accurate alerts: {}\".format(benefit, acc_rate))"
   ]
  },
  {
   "cell_type": "markdown",
   "id": "bec8061a-d90f-400c-a3d0-f4a011531fc7",
   "metadata": {},
   "source": [
    "### Bayesian online change point detection (BOCPD)"
   ]
  },
  {
   "cell_type": "code",
   "execution_count": null,
   "id": "3fd04a9c-f4e4-4cb4-a67e-2710a1d3845e",
   "metadata": {},
   "outputs": [],
   "source": [
    "ALPHA = 0.1\n",
    "BETA = 1.0\n",
    "KAPPA = 1.0\n",
    "MU = 0.0\n",
    "DELAY = 15\n",
    "N_trial = 1\n",
    "\n",
    "for LAMBDA in [3]:\n",
    "    for THRESHOLD in [0.3]:\n",
    "        scores_bocpd = []\n",
    "        for i in range(N_trial):\n",
    "            X = data\n",
    "\n",
    "            # BOCPD\n",
    "            bocd = BOCD(partial(constant_hazard, LAMBDA),\n",
    "                        StudentT(ALPHA, BETA, KAPPA, MU), X)\n",
    "            change_point = []\n",
    "            scores_BOCPD = [np.nan] * DELAY\n",
    "            for x in X[:DELAY]:\n",
    "                bocd.update(x)\n",
    "            for x in X[DELAY:]:\n",
    "                bocd.update(x)\n",
    "                if bocd.growth_probs[DELAY] >= THRESHOLD:\n",
    "                    change_point.append(bocd.t - DELAY + 1)\n",
    "                score = np.sum(bocd.growth_probs[:bocd.t - DELAY] * 1.0 / (1.0 + np.arange(1, bocd.t - DELAY + 1)))\n",
    "                scores_BOCPD.append(score)"
   ]
  },
  {
   "cell_type": "code",
   "execution_count": null,
   "id": "4f8170af-6339-4174-b646-a3d3d6b866d8",
   "metadata": {},
   "outputs": [],
   "source": [
    "T = 40\n",
    "true_change_points_original = []\n",
    "for Date in Dates:\n",
    "    true_change_points_original.append(df[df[\"Date\"]==Date].index[0])"
   ]
  },
  {
   "cell_type": "code",
   "execution_count": null,
   "id": "2a134a0f-0fd3-480e-b737-36a73a93a429",
   "metadata": {},
   "outputs": [],
   "source": [
    "detect_points_BOCPD = []\n",
    "data_points_BOCPD = []\n",
    "detections_BOCPD = []\n",
    "beta = get_threshold(scores_BOCPD, true_change_points_original, T)\n",
    "for i in range(len(scores_BOCPD)):\n",
    "    if scores_BOCPD[i]>beta:\n",
    "        detections_BOCPD.append(i)\n",
    "        detect_points_BOCPD.append(len(data)-len(scores_BOCPD)+i)\n",
    "        data_points_BOCPD.append(df[\"Close\"][detect_points_BOCPD[-1]])"
   ]
  },
  {
   "cell_type": "code",
   "execution_count": null,
   "id": "9315f923-0409-466b-9ef4-55860c331aa6",
   "metadata": {},
   "outputs": [],
   "source": [
    "benefit, acc_rate = get_evaluation(detections_BOCPD, true_change_points_original, T)\n",
    "print(\"benefit: {}, rate of accurate alerts: {}\".format(benefit, acc_rate))"
   ]
  }
 ],
 "metadata": {
  "kernelspec": {
   "display_name": "Python 3 (ipykernel)",
   "language": "python",
   "name": "python3"
  },
  "language_info": {
   "codemirror_mode": {
    "name": "ipython",
    "version": 3
   },
   "file_extension": ".py",
   "mimetype": "text/x-python",
   "name": "python",
   "nbconvert_exporter": "python",
   "pygments_lexer": "ipython3",
   "version": "3.7.9"
  }
 },
 "nbformat": 4,
 "nbformat_minor": 5
}
